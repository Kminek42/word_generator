{
 "cells": [
  {
   "cell_type": "code",
   "execution_count": 2,
   "metadata": {},
   "outputs": [],
   "source": [
    "import torch"
   ]
  },
  {
   "cell_type": "code",
   "execution_count": 3,
   "metadata": {},
   "outputs": [],
   "source": [
    "filename = \"data.csv\""
   ]
  },
  {
   "cell_type": "code",
   "execution_count": 4,
   "metadata": {},
   "outputs": [],
   "source": [
    "file = open(filename, \"r\")\n",
    "data = file.read().split(\"\\n\")[:-1]\n",
    "file.close()"
   ]
  },
  {
   "cell_type": "code",
   "execution_count": 5,
   "metadata": {},
   "outputs": [],
   "source": [
    "INPUT_N = 5\n",
    "separator = \".\" * INPUT_N"
   ]
  },
  {
   "cell_type": "code",
   "execution_count": 6,
   "metadata": {},
   "outputs": [],
   "source": [
    "stream = separator.join(data)"
   ]
  },
  {
   "cell_type": "code",
   "execution_count": 7,
   "metadata": {},
   "outputs": [],
   "source": [
    "words = sorted(list(set(stream)))"
   ]
  },
  {
   "cell_type": "code",
   "execution_count": 8,
   "metadata": {},
   "outputs": [],
   "source": [
    "ctoi = {c: i for i, c in enumerate(words)}\n",
    "itoc = {ctoi[c]: c for c in ctoi}"
   ]
  },
  {
   "cell_type": "code",
   "execution_count": 9,
   "metadata": {},
   "outputs": [],
   "source": [
    "stream = [ctoi[c] for c in stream]"
   ]
  },
  {
   "cell_type": "code",
   "execution_count": 10,
   "metadata": {},
   "outputs": [],
   "source": [
    "X = torch.tensor([stream[i : i + INPUT_N] for i in range(len(stream) - INPUT_N)])\n",
    "Y = torch.tensor([stream[i + INPUT_N] for i in range(len(stream) - INPUT_N)])"
   ]
  },
  {
   "cell_type": "code",
   "execution_count": 11,
   "metadata": {},
   "outputs": [
    {
     "name": "stdout",
     "output_type": "stream",
     "text": [
      "0 tensor([ 1, 14, 14,  1,  0]) -> tensor(0)\n",
      "1 tensor([14, 14,  1,  0,  0]) -> tensor(0)\n",
      "2 tensor([14,  1,  0,  0,  0]) -> tensor(0)\n",
      "3 tensor([1, 0, 0, 0, 0]) -> tensor(0)\n",
      "4 tensor([0, 0, 0, 0, 0]) -> tensor(11)\n",
      "5 tensor([ 0,  0,  0,  0, 11]) -> tensor(1)\n",
      "6 tensor([ 0,  0,  0, 11,  1]) -> tensor(20)\n",
      "7 tensor([ 0,  0, 11,  1, 20]) -> tensor(1)\n",
      "8 tensor([ 0, 11,  1, 20,  1]) -> tensor(18)\n",
      "9 tensor([11,  1, 20,  1, 18]) -> tensor(26)\n",
      "10 tensor([ 1, 20,  1, 18, 26]) -> tensor(25)\n",
      "11 tensor([20,  1, 18, 26, 25]) -> tensor(14)\n",
      "12 tensor([ 1, 18, 26, 25, 14]) -> tensor(1)\n",
      "13 tensor([18, 26, 25, 14,  1]) -> tensor(0)\n",
      "14 tensor([26, 25, 14,  1,  0]) -> tensor(0)\n",
      "15 tensor([25, 14,  1,  0,  0]) -> tensor(0)\n",
      "16 tensor([14,  1,  0,  0,  0]) -> tensor(0)\n",
      "17 tensor([1, 0, 0, 0, 0]) -> tensor(0)\n",
      "18 tensor([0, 0, 0, 0, 0]) -> tensor(13)\n",
      "19 tensor([ 0,  0,  0,  0, 13]) -> tensor(1)\n"
     ]
    }
   ],
   "source": [
    "for i in range(20):\n",
    "    print(i, X[i], \"->\", Y[i])"
   ]
  },
  {
   "cell_type": "code",
   "execution_count": 12,
   "metadata": {},
   "outputs": [
    {
     "data": {
      "text/plain": [
       "32"
      ]
     },
     "execution_count": 12,
     "metadata": {},
     "output_type": "execute_result"
    }
   ],
   "source": [
    "len(words)"
   ]
  },
  {
   "cell_type": "code",
   "execution_count": null,
   "metadata": {},
   "outputs": [],
   "source": []
  }
 ],
 "metadata": {
  "kernelspec": {
   "display_name": "Python 3",
   "language": "python",
   "name": "python3"
  },
  "language_info": {
   "codemirror_mode": {
    "name": "ipython",
    "version": 3
   },
   "file_extension": ".py",
   "mimetype": "text/x-python",
   "name": "python",
   "nbconvert_exporter": "python",
   "pygments_lexer": "ipython3",
   "version": "3.11.4"
  },
  "orig_nbformat": 4
 },
 "nbformat": 4,
 "nbformat_minor": 2
}
